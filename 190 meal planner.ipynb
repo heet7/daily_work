{
 "cells": [
  {
   "cell_type": "code",
   "execution_count": 1,
   "id": "31b81d2e",
   "metadata": {},
   "outputs": [],
   "source": [
    "from smart_fridge import pantry, recipes"
   ]
  },
  {
   "cell_type": "code",
   "execution_count": 6,
   "id": "3782fe70",
   "metadata": {},
   "outputs": [],
   "source": [
    "# let's display recipes\n",
    "d_play_rec = {}\n",
    "for index,value in enumerate(recipes):\n",
    "    d_play_rec[index] = value"
   ]
  },
  {
   "cell_type": "code",
   "execution_count": 7,
   "id": "4d9f6cc9",
   "metadata": {},
   "outputs": [
    {
     "name": "stdout",
     "output_type": "stream",
     "text": [
      "{0: 'Butter chicken', 1: 'Chicken and chips', 2: 'Pizza', 3: 'Egg sandwich', 4: 'Beans on toast', 5: 'Spam a la tin'}\n"
     ]
    }
   ],
   "source": [
    "print(d_play_rec)"
   ]
  },
  {
   "cell_type": "code",
   "execution_count": 9,
   "id": "9c960cf3",
   "metadata": {},
   "outputs": [
    {
     "name": "stdout",
     "output_type": "stream",
     "text": [
      "chicken 500\n",
      "lemon 2\n",
      "cumin 24\n",
      "paprika 18\n",
      "chilli powder 7\n",
      "yogurt 300\n",
      "oil 450\n",
      "onion 5\n",
      "garlic 9\n",
      "ginger 2\n",
      "tomato puree 125\n",
      "almonds 75\n",
      "rice 500\n",
      "coriander 20\n",
      "lime 3\n",
      "pepper 8\n",
      "egg 6\n",
      "pizza 2\n",
      "spam 1\n"
     ]
    }
   ],
   "source": [
    "for key , value in pantry.items():\n",
    "    print(key,value)"
   ]
  },
  {
   "cell_type": "code",
   "execution_count": null,
   "id": "5e83686e",
   "metadata": {},
   "outputs": [],
   "source": []
  }
 ],
 "metadata": {
  "kernelspec": {
   "display_name": "Python 3",
   "language": "python",
   "name": "python3"
  },
  "language_info": {
   "codemirror_mode": {
    "name": "ipython",
    "version": 3
   },
   "file_extension": ".py",
   "mimetype": "text/x-python",
   "name": "python",
   "nbconvert_exporter": "python",
   "pygments_lexer": "ipython3",
   "version": "3.8.8"
  }
 },
 "nbformat": 4,
 "nbformat_minor": 5
}
